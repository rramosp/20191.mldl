{
 "cells": [
  {
   "cell_type": "markdown",
   "metadata": {},
   "source": [
    "Select a data challenge or a dataset of your interest\n",
    "\n",
    "- [Kaggle Competitions](https://www.kaggle.com/competitions)\n",
    "- [UCI Machine Learning Repository](http://archive.ics.uci.edu/ml/)\n",
    "\n",
    "Recommendations:\n",
    "- Understand dataset \n",
    "- Understand evaluation metric\n",
    "- Understand submission rules (for Kaggle)\n",
    "- Inspect existing kernels (for Kaggle)"
   ]
  },
  {
   "cell_type": "code",
   "execution_count": null,
   "metadata": {},
   "outputs": [],
   "source": []
  }
 ],
 "metadata": {
  "kernelspec": {
   "display_name": "p37",
   "language": "python",
   "name": "python3"
  },
  "language_info": {
   "codemirror_mode": {
    "name": "ipython",
    "version": 3
   },
   "file_extension": ".py",
   "mimetype": "text/x-python",
   "name": "python",
   "nbconvert_exporter": "python",
   "pygments_lexer": "ipython3",
   "version": "3.7.3"
  }
 },
 "nbformat": 4,
 "nbformat_minor": 2
}
