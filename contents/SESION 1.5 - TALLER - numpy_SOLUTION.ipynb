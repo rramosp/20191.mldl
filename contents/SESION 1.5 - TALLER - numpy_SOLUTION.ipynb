{
 "cells": [
  {
   "cell_type": "markdown",
   "metadata": {},
   "source": [
    "# Numpy: ProblemSet"
   ]
  },
  {
   "cell_type": "markdown",
   "metadata": {},
   "source": [
    "## Problema 1\n",
    "\n",
    "Dados dos arreglos X y Y, construir la matriz de Cauchy $$C\\:\\:[ C_{ij}=\\:\\: \\frac{1}{X_i-Y_j} ]$$\n",
    "\n",
    "retornar el determinante de la matriz\n",
    "\n",
    ">- Matriz de Cauchy: https://en.wikipedia.org/wiki/Cauchy_matrix , las entradas de la matriz, son el resultado de la resta de los arreglos en la posición correspondiente, donde las Filas equivalen a X y las columnas a Y. Asegurese de que no realice divisiones por 0. (Pista, consulte la función substract.outer de numpy) \n",
    "\n",
    "### Ejemplo de Ejecución\n",
    "\n",
    "``` python\n",
    "\n",
    ">>>X = np.arange(10)\n",
    ">>>Y = X + 0.3\n",
    ">>>cauchy(X,Y)\n",
    "547032.86592945794\n",
    "\n",
    "```\n",
    "\n",
    "### Solución:"
   ]
  },
  {
   "cell_type": "code",
   "execution_count": 3,
   "metadata": {},
   "outputs": [],
   "source": [
    "import numpy as np \n",
    "\n",
    "def cauchy(X,Y):\n",
    "    C = 1.0 / np.subtract.outer(X, Y)\n",
    "    return np.linalg.det(C)\n",
    "    \n",
    "    \n"
   ]
  },
  {
   "cell_type": "code",
   "execution_count": 4,
   "metadata": {},
   "outputs": [
    {
     "data": {
      "text/plain": [
       "547032.8659294579"
      ]
     },
     "execution_count": 4,
     "metadata": {},
     "output_type": "execute_result"
    }
   ],
   "source": [
    "X = np.arange(10)\n",
    "Y = X + 0.3\n",
    "cauchy(X,Y)"
   ]
  },
  {
   "cell_type": "markdown",
   "metadata": {},
   "source": [
    "## Problema 2\n",
    "\n",
    "Dado un arreglo X, hallar el valor más cercano a un escalar dado V, retornar su indice en el arreglo  \n",
    "\n",
    "#### Solución"
   ]
  },
  {
   "cell_type": "code",
   "execution_count": 5,
   "metadata": {},
   "outputs": [],
   "source": [
    "\n",
    "import numpy as np \n",
    "\n",
    "def minimo(X,v):\n",
    "    index = (np.abs(X-v)).argmin()\n",
    "    return index\n",
    "\n"
   ]
  },
  {
   "cell_type": "code",
   "execution_count": 6,
   "metadata": {},
   "outputs": [
    {
     "data": {
      "text/plain": [
       "4"
      ]
     },
     "execution_count": 6,
     "metadata": {},
     "output_type": "execute_result"
    }
   ],
   "source": [
    "X=np.arange(25,55,2)\n",
    "v=34\n",
    "minimo(X,v)"
   ]
  },
  {
   "cell_type": "markdown",
   "metadata": {},
   "source": [
    "## Problema 3\n",
    "\n",
    "Dada una matriz, retornar otra en la que se le reste a cada componente, la media de su respectiva fila.\n",
    "\n",
    "#### Solución"
   ]
  },
  {
   "cell_type": "code",
   "execution_count": 7,
   "metadata": {},
   "outputs": [],
   "source": [
    "\n",
    "import numpy as np\n",
    "\n",
    "X = np.array(5*[5*[5]])\n",
    "def media(X):\n",
    "    Y = X - X.mean(axis=1, keepdims=True)\n",
    "    return Y\n"
   ]
  },
  {
   "cell_type": "code",
   "execution_count": 8,
   "metadata": {},
   "outputs": [
    {
     "name": "stdout",
     "output_type": "stream",
     "text": [
      "[[1 2 3]\n",
      " [4 5 6]\n",
      " [7 8 9]]\n",
      "[[-1.  0.  1.]\n",
      " [-1.  0.  1.]\n",
      " [-1.  0.  1.]]\n"
     ]
    }
   ],
   "source": [
    "a = [[1, 2, 3], [4, 5, 6],[7,8,9]]\n",
    "X = np.array(a)\n",
    "print (X)\n",
    "print (media(X))"
   ]
  },
  {
   "cell_type": "markdown",
   "metadata": {},
   "source": [
    "## Problema 4\n",
    "\n",
    "Retorne en un arreglo, la diagonal del producto de dos matrices dadas.\n",
    "\n",
    "#### Solución"
   ]
  },
  {
   "cell_type": "code",
   "execution_count": 11,
   "metadata": {},
   "outputs": [],
   "source": [
    "\n",
    "import numpy as np \n",
    "def diagonal(A,B):\n",
    "    return np.diag(np.dot(A, B))\n",
    "\n"
   ]
  },
  {
   "cell_type": "code",
   "execution_count": 12,
   "metadata": {},
   "outputs": [
    {
     "data": {
      "text/plain": [
       "array([2.38234622, 1.10148379, 2.99734642, 1.61960306, 1.38310248])"
      ]
     },
     "execution_count": 12,
     "metadata": {},
     "output_type": "execute_result"
    }
   ],
   "source": [
    "A=[[ 0.74019211,  0.88074775,  0.76313766,  0.16401307,  0.79100838,  0.55012263,\n",
    "   0.52715895,  0.10473314 , 0.32350678  ,0.10636768],\n",
    " [ 0.60191586,  0.19951451 , 0.30253232  ,0.20650427 , 0.79079405 , 0.88890474,\n",
    "   0.02091529 , 0.06900835 , 0.19961579  ,0.45072254],\n",
    " [ 0.12305539 , 0.80427841 , 0.28039939  ,0.44587499 , 0.22792054 , 0.15380323,\n",
    "   0.53475777 , 0.2329996  , 0.96797348  ,0.82400304],\n",
    " [ 0.72238524 , 0.21711033 , 0.80644066  ,0.53411037 , 0.29574619 , 0.28531133,\n",
    "   0.08859403  ,0.75136371 , 0.47861943  ,0.11314524],\n",
    " [ 0.87248516 , 0.05968816 , 0.03220045  ,0.55847246 , 0.40362461 , 0.54408517,\n",
    "   0.82325408 , 0.61511986 , 0.1480684   ,0.17169693]]\n",
    "\n",
    "B=[[ 0.5550068 ,  0.08223711,  0.05259033, 0.35471869,  0.19791947],\n",
    " [ 0.55743724  ,0.82923066  ,0.95146065  ,0.30236612 , 0.40422403],\n",
    " [ 0.79473269  ,0.2517258   ,0.78367486  ,0.03618329 , 0.31310786],\n",
    " [ 0.93932005  ,0.5373381   ,0.77710968  ,0.77713596 , 0.4513889 ],\n",
    " [ 0.0490389   ,0.21339475  ,0.60761344  ,0.26668217 , 0.00566334],\n",
    " [ 0.16992835  ,0.009103    ,0.57721662  ,0.30618822 , 0.38424874],\n",
    " [ 0.64616497  ,0.49037448  ,0.86234425  ,0.05965279 , 0.31444925],\n",
    " [ 0.65539184  ,0.86174556  ,0.01188851  ,0.84005788 , 0.48375559],\n",
    " [ 0.4156407   ,0.30756694  ,0.81141294  ,0.10472866 , 0.60378635],\n",
    " [ 0.41379741  ,0.86851756  ,0.22183539  ,0.00555388 , 0.38982601]]\n",
    "\n",
    "diagonal(A,B)"
   ]
  },
  {
   "cell_type": "markdown",
   "metadata": {},
   "source": [
    "## Problema 5\n",
    "\n",
    "Considere un arreglo de tamaño arbitrario, desarrolle un método para retornar un sub arreglo de tamaño dado y centrado en un valor deseado.\n",
    "\n",
    "### Ejemplo de Ejecución\n",
    "\n",
    "```python\n",
    "\n",
    ">>>X=np.array([ 0.79035627,  0.08409479,  0.57376371,  0.8449833 ,  0.63291871,  0.78611748,\n",
    "  0.65485656  ,0.6580865   ,0.80133703  ,0.6094324   ,0.62010416  ,0.98148802,\n",
    "  0.70262324  ,0.42894768  ,0.70470542  ,0.37187055  ,0.05427004  ,0.50294194,\n",
    "  0.84034571  ,0.00586813])\n",
    ">>>c=10\n",
    ">>>l=5\n",
    "\n",
    ">>>subArray(X,c,l)\n",
    "[0.80133703, 0.6094324, 0.62010416, 0.98148802, 0.70262324]\n",
    "\n",
    "```\n",
    "\n",
    "### Solución"
   ]
  },
  {
   "cell_type": "code",
   "execution_count": 15,
   "metadata": {},
   "outputs": [],
   "source": [
    "import numpy as np \n",
    "\n",
    "def subArray(X,c,l): #X: arreglo, c: centro, l, longitud\n",
    "    cota=int(l/2)\n",
    "    return X[c-cota:c+cota]\n"
   ]
  },
  {
   "cell_type": "code",
   "execution_count": 16,
   "metadata": {},
   "outputs": [
    {
     "data": {
      "text/plain": [
       "array([0.80133703, 0.6094324 , 0.62010416, 0.98148802])"
      ]
     },
     "execution_count": 16,
     "metadata": {},
     "output_type": "execute_result"
    }
   ],
   "source": [
    "X=np.array([ 0.79035627,  0.08409479,  0.57376371,  0.8449833 ,  0.63291871,  0.78611748,\n",
    "  0.65485656  ,0.6580865   ,0.80133703  ,0.6094324   ,0.62010416  ,0.98148802,\n",
    "  0.70262324  ,0.42894768  ,0.70470542  ,0.37187055  ,0.05427004  ,0.50294194,\n",
    "  0.84034571  ,0.00586813])\n",
    "c=10\n",
    "l=5\n",
    "\n",
    "subArray(X,c,l)"
   ]
  }
 ],
 "metadata": {
  "kernelspec": {
   "display_name": "p37",
   "language": "python",
   "name": "python3"
  },
  "language_info": {
   "codemirror_mode": {
    "name": "ipython",
    "version": 3
   },
   "file_extension": ".py",
   "mimetype": "text/x-python",
   "name": "python",
   "nbconvert_exporter": "python",
   "pygments_lexer": "ipython3",
   "version": "3.7.3"
  }
 },
 "nbformat": 4,
 "nbformat_minor": 2
}
