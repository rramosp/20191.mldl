{
 "cells": [
  {
   "cell_type": "markdown",
   "metadata": {},
   "source": [
    "sugerencias de clasificación binaria con imágenes de queries en google:\n",
    "    \n",
    "- plant/tree\n",
    "- nature/city\n",
    "- futbol/baloncesto\n",
    "- doritos/detodito\n",
    "- people_with_glasses/portrait\n",
    "\n",
    "experimentos:\n",
    "\n",
    "- imágenes de 64x64, 128x128\n",
    "- más imágenes\n",
    "- más capas (Dense/Convolucionales)\n",
    "- más dropout cuando veas overfitting\n",
    "- transfer learning\n",
    "\n",
    "sugerencia:\n",
    "- sube el notebook a tu Google drive y ejecútalo con Google Colab"
   ]
  },
  {
   "cell_type": "code",
   "execution_count": null,
   "metadata": {},
   "outputs": [],
   "source": []
  }
 ],
 "metadata": {
  "kernelspec": {
   "display_name": "Python 2",
   "language": "python",
   "name": "python2"
  },
  "language_info": {
   "codemirror_mode": {
    "name": "ipython",
    "version": 2
   },
   "file_extension": ".py",
   "mimetype": "text/x-python",
   "name": "python",
   "nbconvert_exporter": "python",
   "pygments_lexer": "ipython2",
   "version": "2.7.14"
  }
 },
 "nbformat": 4,
 "nbformat_minor": 2
}
