{
 "cells": [
  {
   "cell_type": "markdown",
   "metadata": {},
   "source": [
    "# Sintaxis: ProblemSet\n",
    "\n"
   ]
  },
  {
   "cell_type": "markdown",
   "metadata": {},
   "source": [
    "## Problema 1\n",
    "\n",
    "Determine si un número `n` entero ingresado por el usuario es un palíndromo, es decir si puede leerse igual de izquierda a derecha o de derecha a izquierda. (Retorne `True` en caso afirmativo y `False` en caso contrario) \n",
    "\n",
    "\n",
    "### Ejemplo de ejecución\n",
    "\n",
    "```python\n",
    "\n",
    ">>> palindromo(n=3456543)\n",
    "True\n",
    "\n",
    ">>> palindromo(n=543)\n",
    "\n",
    "False\n",
    "\n",
    "```\n",
    "\n",
    "### Solución:"
   ]
  },
  {
   "cell_type": "code",
   "execution_count": 1,
   "metadata": {},
   "outputs": [],
   "source": [
    "\n",
    "def palindromo(n):\n",
    "    \n",
    "    digitos = [int(i) for i in str(n)]\n",
    "    \n",
    "    for i in xrange(len(digitos)):\n",
    "        if(digitos[i]!=digitos[-(i+1)]):\n",
    "            return False\n",
    "    return True\n",
    "\n",
    "def palindromo(n):\n",
    "    \n",
    "    return str(n)==str(n)[::-1]\n",
    "\n",
    "\n"
   ]
  },
  {
   "cell_type": "code",
   "execution_count": 3,
   "metadata": {},
   "outputs": [
    {
     "data": {
      "text/plain": [
       "False"
      ]
     },
     "execution_count": 3,
     "metadata": {},
     "output_type": "execute_result"
    }
   ],
   "source": [
    "palindromo(12321); palindromo(12322)"
   ]
  },
  {
   "cell_type": "code",
   "execution_count": 11,
   "metadata": {
    "scrolled": true
   },
   "outputs": [
    {
     "name": "stdout",
     "output_type": "stream",
     "text": [
      "\n",
      "** Felicitaciones **\n",
      "evaluation result 5.0 \n"
     ]
    }
   ],
   "source": [
    "!./run CHECK_SOLUTION PS1_SYNTAX_1"
   ]
  },
  {
   "cell_type": "markdown",
   "metadata": {},
   "source": [
    "## Problema 2\n",
    "\n",
    "En este ejercicio, su programa recibirá un monto entre 1 y 99 centavos de Dolar, Escriba un metodo que retorne en  una lista, cuantas monedas son necesarias para devolverle a alguien dicho valor, si únicamente se cuenta con monedas de 1, 10 y 25 centavos. La lista debe entregarse de la siguiente manera: \n",
    "\n",
    "    \n",
    "```python\n",
    "\n",
    "r = [n_1,n_10,n_25]\n",
    "\n",
    "```\n",
    "\n",
    " donde `n_1`, `n_10` y `n_25` son la cantidad de monedas de 1, 10 y 25 centavos respectivamente\n",
    "\n",
    "si el valor no está en el rango dado, debe retornarse ` r = None` \n",
    "\n",
    "\n",
    "### Ejemplo de ejecución\n",
    "\n",
    "```python\n",
    "\n",
    ">>> cambio(n=55)\n",
    "[5,0,2]\n",
    "\n",
    "\n",
    ">>> cambio(n=200)\n",
    "None\n",
    "\n",
    "\n",
    ">>> cambio(n=47)\n",
    "[2,2,1]\n",
    "\n",
    "```\n",
    "\n",
    "### Solución:"
   ]
  },
  {
   "cell_type": "code",
   "execution_count": 4,
   "metadata": {},
   "outputs": [],
   "source": [
    "\n",
    "def cambio(n):\n",
    "    change=[0,0,0]\n",
    "    if (n<1 or n>99):\n",
    "        return None\n",
    "    else:\n",
    "        change[2]=n//25\n",
    "        n-=change[2]*25\n",
    "        change[1]=n//10\n",
    "        change[0]=n%10\n",
    "        return change\n",
    "\n",
    "     \n",
    "    "
   ]
  },
  {
   "cell_type": "code",
   "execution_count": 6,
   "metadata": {},
   "outputs": [
    {
     "data": {
      "text/plain": [
       "([5, 0, 2], None, [2, 2, 1])"
      ]
     },
     "execution_count": 6,
     "metadata": {},
     "output_type": "execute_result"
    }
   ],
   "source": [
    "cambio(n=55), cambio(n=200), cambio(n=47)"
   ]
  },
  {
   "cell_type": "markdown",
   "metadata": {},
   "source": [
    "## Problema 3\n",
    "\n",
    "Dada una cadena de caracteres, entregar una lista donde se retorne:\n",
    ">- en la primera casilla: `True` si el caracter del medio es una vocal, `False` en caso contrario \n",
    ">- en la segunda: el numero de vocales en la cadena\n",
    ">- en la tercera: el numero de consonantes\n",
    ">- en la ultima: la cadena de caracteres invertida (ej: perro, orrep)\n",
    "\n",
    "### Ejemplo de Ejecución\n",
    "```python\n",
    "\n",
    ">>> cadena(s='perro')\n",
    "[False, 2, 3, 'orrep']\n",
    "\n",
    ">>> cadena(s='murcielago')\n",
    "[True, 5, 5, 'ogaleicrum']\n",
    "\n",
    "```\n",
    "\n",
    "### Solución"
   ]
  },
  {
   "cell_type": "code",
   "execution_count": 7,
   "metadata": {},
   "outputs": [],
   "source": [
    "\n",
    "def cadena(s):\n",
    "    \n",
    "    char=[i for i in str(s)]\n",
    "    resultado=[False]\n",
    "    vocal=['a','e','i','o','u']\n",
    "    \n",
    "    if(len(s)%2==0):\n",
    "        medio=len(s)//2\n",
    "    else:\n",
    "        medio=len(s)//2+1\n",
    "    \n",
    "    cont_vocales=0\n",
    "    aux=1\n",
    "    inverso=''\n",
    "    for i in s:\n",
    "        #vocales\n",
    "        for j in vocal:\n",
    "            if(i==j):\n",
    "                cont_vocales+=1\n",
    "        if (medio==aux):\n",
    "            for j in vocal:\n",
    "                if(i==j):\n",
    "                     resultado[0]=True\n",
    "        inverso=i+inverso\n",
    "        aux+=1\n",
    "    resultado+=[cont_vocales,len(s)-cont_vocales,inverso]\n",
    "    return resultado\n",
    "    \n"
   ]
  },
  {
   "cell_type": "code",
   "execution_count": 8,
   "metadata": {},
   "outputs": [
    {
     "data": {
      "text/plain": [
       "([False, 2, 3, 'orrep'], [True, 5, 5, 'ogaleicrum'])"
      ]
     },
     "execution_count": 8,
     "metadata": {},
     "output_type": "execute_result"
    }
   ],
   "source": [
    "cadena(s='perro'), cadena(s='murcielago')"
   ]
  },
  {
   "cell_type": "code",
   "execution_count": null,
   "metadata": {},
   "outputs": [],
   "source": [
    "!./run CHECK_SOLUTION PS1_SYNTAX_3"
   ]
  },
  {
   "cell_type": "markdown",
   "metadata": {},
   "source": [
    "## Problema 4\n",
    "\n",
    "Elabore un método para calcular el n-ésimo término de la sucesión de fibonacci: \n",
    "\n",
    "$$ f_n = f_{n-1}+f_{n-2}$$\n",
    "\n",
    "Donde $$f_0=0 \\:\\:\\text{ y }\\:\\:f_1=1 $$ así:   $$f_2=1+0=1$$ $$f_3=1+1=2$$  $$f_4=2+1=3$$ y así sucesivamente\n",
    "\n",
    "### Ejemplo de Ejecución\n",
    "```python\n",
    "\n",
    ">>> fibonacci(50)\n",
    "12586269025\n",
    "\n",
    ">>> fibonacci(63)\n",
    "6557470319842\n",
    "```\n",
    "### Solución"
   ]
  },
  {
   "cell_type": "code",
   "execution_count": 13,
   "metadata": {},
   "outputs": [],
   "source": [
    "def fibonacci(n):\n",
    "    f_1=1\n",
    "    f_2=1\n",
    "    suma=0\n",
    "    if(n<3):\n",
    "        return 1\n",
    "    for i in range(3,n+1):\n",
    "        suma=f_1+f_2\n",
    "        f_1=f_2\n",
    "        f_2=suma\n",
    "    \n",
    "    return suma\n",
    "\n"
   ]
  },
  {
   "cell_type": "code",
   "execution_count": 14,
   "metadata": {},
   "outputs": [
    {
     "data": {
      "text/plain": [
       "(12586269025, 6557470319842)"
      ]
     },
     "execution_count": 14,
     "metadata": {},
     "output_type": "execute_result"
    }
   ],
   "source": [
    "fibonacci(50), fibonacci(63)"
   ]
  },
  {
   "cell_type": "markdown",
   "metadata": {},
   "source": [
    "## Problema 5\n",
    "\n",
    "Elaborar un método que arroje `True`  si el numero ingresado es perfecto, `False` en caso contrario.\n",
    "\n",
    ">- números perfectos: https://es.wikipedia.org/wiki/N%C3%BAmero_perfecto,\n",
    "un número es perfecto si la suma de todos sus divisores es igual al mismo número; ej: $6=3+2+1$\n",
    "\n",
    "### Ejemplo de Ejecución\n",
    "\n",
    "```python\n",
    "\n",
    ">>> perfecto(6)\n",
    "True\n",
    "\n",
    ">>> perfecto(51)\n",
    "False\n",
    "\n",
    ">>> perfecto(496)\n",
    "True\n",
    "\n",
    "```\n",
    "\n",
    "### Solución"
   ]
  },
  {
   "cell_type": "code",
   "execution_count": 19,
   "metadata": {},
   "outputs": [],
   "source": [
    "def perfecto(n):\n",
    "    suma = 0\n",
    "    for i in range(1, n):\n",
    "        if n % i == 0:\n",
    "            suma += i\n",
    "    return suma == n"
   ]
  },
  {
   "cell_type": "code",
   "execution_count": 20,
   "metadata": {},
   "outputs": [
    {
     "data": {
      "text/plain": [
       "(True, False, True)"
      ]
     },
     "execution_count": 20,
     "metadata": {},
     "output_type": "execute_result"
    }
   ],
   "source": [
    "perfecto(6), perfecto(51), perfecto(496)"
   ]
  }
 ],
 "metadata": {
  "kernelspec": {
   "display_name": "p37",
   "language": "python",
   "name": "python3"
  },
  "language_info": {
   "codemirror_mode": {
    "name": "ipython",
    "version": 3
   },
   "file_extension": ".py",
   "mimetype": "text/x-python",
   "name": "python",
   "nbconvert_exporter": "python",
   "pygments_lexer": "ipython3",
   "version": "3.7.3"
  }
 },
 "nbformat": 4,
 "nbformat_minor": 2
}
