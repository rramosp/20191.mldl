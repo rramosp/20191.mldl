{
 "cells": [
  {
   "cell_type": "markdown",
   "metadata": {},
   "source": [
    "# Pandas: ProblemSet"
   ]
  },
  {
   "cell_type": "markdown",
   "metadata": {},
   "source": [
    "## Problema 1\n",
    "\n",
    "Usando el set `PS4_1.csv`, convertir la serie `Date` en el indice (serie de tiempo) y eliminar la serie `Unnamed: 1` (generado por pandas), retornar en una lista y en el siguiente orden:\n",
    "* número de registros\n",
    "* cantidad de columnas\n",
    "* nombre de la columna con menos datos que los demás \n",
    "* cantidad total de memoria usada para cargar el set en el computador \n",
    "* el maximo valor para `Maisonneuve_1`\n"
   ]
  },
  {
   "cell_type": "code",
   "execution_count": 1,
   "metadata": {},
   "outputs": [
    {
     "name": "stdout",
     "output_type": "stream",
     "text": [
      "Date,,Berri1,Maisonneuve_1,Maisonneuve_2,Brebeuf\r\n",
      "01/01/2009,00:00,29,20,35,\r\n",
      "02/01/2009,00:00,19,3,22,\r\n",
      "03/01/2009,00:00,24,12,22,\r\n",
      "04/01/2009,00:00,24,8,15,\r\n",
      "05/01/2009,00:00,120,111,141,\r\n",
      "06/01/2009,00:00,261,146,236,\r\n",
      "07/01/2009,00:00,60,33,80,\r\n",
      "08/01/2009,00:00,24,14,14,\r\n",
      "09/01/2009,00:00,35,20,32,\r\n"
     ]
    }
   ],
   "source": [
    "!head data/PS4_1.csv"
   ]
  },
  {
   "cell_type": "markdown",
   "metadata": {},
   "source": [
    "### Ejemplo de Ejecución\n",
    "\n",
    "```python\n",
    "\n",
    ">>> ps4_1(df.iloc[200:250])\n",
    "[50, 4, 'Brebeuf', 2000, 3825]\n",
    "```\n",
    "\n",
    "### Solución "
   ]
  },
  {
   "cell_type": "code",
   "execution_count": 2,
   "metadata": {},
   "outputs": [
    {
     "ename": "SyntaxError",
     "evalue": "invalid syntax (<ipython-input-2-6a17f0f313f9>, line 12)",
     "output_type": "error",
     "traceback": [
      "\u001b[0;36m  File \u001b[0;32m\"<ipython-input-2-6a17f0f313f9>\"\u001b[0;36m, line \u001b[0;32m12\u001b[0m\n\u001b[0;31m    registros=\u001b[0m\n\u001b[0m               ^\u001b[0m\n\u001b[0;31mSyntaxError\u001b[0m\u001b[0;31m:\u001b[0m invalid syntax\n"
     ]
    }
   ],
   "source": [
    "import pandas as pd\n",
    "import numpy as np\n",
    "\n",
    "df=pd.read_csv(\"data/PS4_1.csv\" , parse_dates=True) \n",
    "\n",
    "def ps4_1(df):\n",
    "    \n",
    "    #aplicar las correcciones al DataFrame aqui\n",
    "\n",
    "    #su codigo aqui\n",
    "    \n",
    "    registros= \n",
    "    cols= \n",
    "    menor= \n",
    "    memoria= \n",
    "    maximo=\n",
    "    \n",
    "    r=[registros,cols,menor,memoria,maximo] #respuesta\n",
    "    \n",
    "    \n",
    "    \n",
    "    return r\n"
   ]
  },
  {
   "cell_type": "markdown",
   "metadata": {},
   "source": [
    "### Prueba manuealmente tu respuesta"
   ]
  },
  {
   "cell_type": "code",
   "execution_count": null,
   "metadata": {},
   "outputs": [],
   "source": [
    "df=pd.read_csv(\"data/PS4_1.csv\" , parse_dates=True) \n",
    "ps4_1(df.iloc[200:250])"
   ]
  },
  {
   "cell_type": "markdown",
   "metadata": {},
   "source": [
    "## Problema 2\n",
    "\n",
    "Usando el set anterior, retornar el siguiente arreglo:\n",
    "\n",
    "* la media\n",
    "* la desviación estándar\n",
    "* el máximo\n",
    "* el mínimo\n",
    "* los tercer cuartiles (75%) \n",
    "\n",
    "\n",
    "para las  4 columnas disponibles (en el orden del archivo).\n",
    "\n",
    "## Ejemplo de Ejecución\n",
    "\n",
    "```python\n",
    "\n",
    ">>>ps4_2(df.iloc[100:200])\n",
    "[3204.23,\n",
    " 1625.7498090158742,\n",
    " 6626,\n",
    " 0,\n",
    " 4370.5,\n",
    " 1918.5599999999999,\n",
    " 1009.6224348785547,\n",
    " 4242,\n",
    " 0,\n",
    " 2555.5,\n",
    " 2864.2199999999998,\n",
    " 1490.5958714960982,\n",
    " 6047,\n",
    " 0,\n",
    " 3911.25,\n",
    " 4759.4615384615381,\n",
    " 1748.0806910906895,\n",
    " 7575.0,\n",
    " 2156.0,\n",
    " 5999.0]\n",
    "\n",
    "```\n",
    "\n",
    "### Solución"
   ]
  },
  {
   "cell_type": "code",
   "execution_count": null,
   "metadata": {},
   "outputs": [],
   "source": [
    "%%writefile utils/student_function/student_PS4_PANDAS_2.py\n",
    "## Ejercicio del estudiante\n",
    "\n",
    "import pandas as pd\n",
    "\n",
    "def ps4_2():\n",
    "    df=pd.read_csv(\"data/PS4_1.csv\" , parse_dates=True)\n",
    "    df.index = pd.to_datetime(df.Date)\n",
    "    del(df[\"Date\"])\n",
    "    del(df[\"Unnamed: 1\"])\n",
    "    \n",
    "    r=[]\n",
    "    Berri_media=\n",
    "    Berri_std=\n",
    "    Berri_max= \n",
    "    Berri_min= \n",
    "    Berri_75=\n",
    "    \n",
    "    Maiso1_media= \n",
    "    Maiso1_std= \n",
    "    Maiso1_max= \n",
    "    Maiso1_min= \n",
    "    Maiso1_75= \n",
    "    \n",
    "    \n",
    "    Maiso2_media= \n",
    "    Maiso2_std= \n",
    "    Maiso2_max= \n",
    "    Maiso2_min= \n",
    "    Maiso2_75= \n",
    "    \n",
    "    \n",
    "    Brebeuf_media= \n",
    "    Brebeuf_std= \n",
    "    Brebeuf_max= \n",
    "    Brebeuf_min= \n",
    "    Brebeuf_75= \n",
    "    \n",
    "    r+=[Berri_media,Berri_std, Berri_max,Berri_min, Berri_75]\n",
    "    r+=[Maiso1_media,Maiso1_std,Maiso1_max,Maiso1_min,Maiso1_75]\n",
    "    r+=[Maiso2_media,Maiso2_std,Maiso2_max,Maiso2_min ,Maiso2_75 ]\n",
    "    r+=[Brebeuf_media,Brebeuf_std,Brebeuf_max,Brebeuf_min,Brebeuf_75 ]\n",
    "    \n",
    "    return r\n",
    "    \n"
   ]
  },
  {
   "cell_type": "markdown",
   "metadata": {},
   "source": [
    "### Prueba manuealmente tu respuesta"
   ]
  },
  {
   "cell_type": "code",
   "execution_count": null,
   "metadata": {},
   "outputs": [],
   "source": [
    "ps4_2(df.iloc[100:200])"
   ]
  },
  {
   "cell_type": "markdown",
   "metadata": {},
   "source": [
    "## Problema 3\n",
    "\n",
    "usando `PS4_2.data` el cual contiene un reporte meteorológico de la velocidad del viento en diferentes ciudades del mundo, obtener la velocidad media del viento en cada ciudad, para el mes de enero y retornarlo como un numpy array.\n",
    "\n",
    "ayuda: \n",
    "* use de separador: '\\s+' al leer el archivo\n",
    "* recuerde corregir las fechas (los datos fueron tomados en 1961, no 2061)\n",
    "* puede retornar los valores del resultado como un array usando el metodo `.values` directamente en la serie"
   ]
  },
  {
   "cell_type": "code",
   "execution_count": null,
   "metadata": {
    "scrolled": true
   },
   "outputs": [],
   "source": [
    "!head data/PS4_2.data"
   ]
  },
  {
   "cell_type": "markdown",
   "metadata": {},
   "source": [
    "### Ejemplo de Ejecución\n",
    "\n",
    "```python\n",
    "\n",
    ">>> ps4_3(data.loc[pd.Timestamp('1961-08-01'):pd.Timestamp('1962-12-31')])\n",
    "\n",
    "array([ 14.78387097,  13.16032258,  12.59193548,   7.53806452,\n",
    "        11.77967742,   8.72      ,  14.21193548,   9.6       ,\n",
    "         9.67      ,  11.49870968,  16.36935484,  15.6616129 ])\n",
    "```\n",
    "\n",
    "### Solución"
   ]
  },
  {
   "cell_type": "code",
   "execution_count": null,
   "metadata": {},
   "outputs": [],
   "source": [
    "%%writefile utils/student_function/student_PS4_PANDAS_3.py\n",
    "## Ejercicio del estudiante\n",
    "\n",
    "import pandas as pd\n",
    "\n",
    "import datetime\n",
    "def fix_century(x): #ayuda \n",
    "    year = x.year - 100 if x.year > 1989 else x.year\n",
    "    return datetime.date(year, x.month, x.day)\n",
    "\n",
    "data=pd.read_csv('data/PS4_2.data', sep='\\s+', parse_dates = [[0,1,2]])\n",
    "data['Yr_Mo_Dy'] = data['Yr_Mo_Dy'].apply(fix_century)\n",
    "data[\"Yr_Mo_Dy\"] = pd.to_datetime(data[\"Yr_Mo_Dy\"])\n",
    "data = data.set_index('Yr_Mo_Dy')\n",
    "\n",
    "def ps4_3(data):\n",
    "    \n",
    "    #su codigo aqui\n",
    "    \n",
    "    vientos_enero= x\n",
    "    return vientos_enero"
   ]
  },
  {
   "cell_type": "markdown",
   "metadata": {},
   "source": [
    "### Prueba manuealmente tu respuesta"
   ]
  },
  {
   "cell_type": "code",
   "execution_count": null,
   "metadata": {},
   "outputs": [],
   "source": [
    "def fix_century(x): #ayuda \n",
    "    year = x.year - 100 if x.year > 1989 else x.year\n",
    "    return datetime.date(year, x.month, x.day)\n",
    "\n",
    "data=pd.read_csv('data/PS4_2.data', sep='\\s+', parse_dates = [[0,1,2]])\n",
    "data['Yr_Mo_Dy'] = data['Yr_Mo_Dy'].apply(fix_century)\n",
    "data[\"Yr_Mo_Dy\"] = pd.to_datetime(data[\"Yr_Mo_Dy\"])\n",
    "data = data.set_index('Yr_Mo_Dy')\n",
    "\n",
    "\n",
    "ps4_3(data.loc[pd.Timestamp('1961-08-01'):pd.Timestamp('1962-12-31')].copy())"
   ]
  },
  {
   "cell_type": "markdown",
   "metadata": {},
   "source": [
    "## Problema 4\n",
    "\n",
    "usando `PS4_2.data` cree una submestra mensual de las medias y luego a esta, agregarle la media y desviación  estandar (agg) para una ventana de 20 meses (rolling), retornarlas como un dataframe en dicho orden eliminando los datos `NaN`\n",
    "\n",
    "\n",
    "### Ejemplo de Ejecución\n",
    "\n",
    "```python\n",
    "\n",
    ">>>print ps4_4(data.loc[pd.Timestamp('1961-01-01'):pd.Timestamp('1962-12-31')])\n",
    "                  RPT                  VAL                  ROS            \\\n",
    "                 mean       std       mean       std       mean       std   \n",
    "Yr_Mo_Dy                                                                    \n",
    "1962-09-30  12.129212  2.041318  10.204477  1.765735  11.429333  1.713995   \n",
    "1962-10-31  11.800716  1.860651   9.858886  1.426667  11.175114  1.618094   \n",
    "1962-11-30  11.809783  1.856416   9.693264  1.443173  11.239252  1.625882   \n",
    "1962-12-31  12.112923  2.142517   9.909558  1.702195  11.453175  1.731975   \n",
    "\n",
    "                 KIL                  SHA              ...          MUL  \\\n",
    "                mean       std       mean       std    ...         mean   \n",
    "Yr_Mo_Dy                                               ...                \n",
    "1962-09-30  6.979756  0.995691  10.873475  1.438562    ...     8.569166   \n",
    "1962-10-31  6.759122  0.958864  10.602481  1.356040    ...     8.309627   \n",
    "1962-11-30  6.681922  0.976376  10.483796  1.464184    ...     8.113037   \n",
    "1962-12-31  6.868259  1.146214  10.748288  1.549881    ...     8.280098   \n",
    "\n",
    "                           CLO                  BEL                  MAL  \\\n",
    "                 std      mean       std       mean       std       mean   \n",
    "Yr_Mo_Dy                                                                   \n",
    "1962-09-30  1.545750  9.765528  1.477155  13.238787  2.358109  13.708639   \n",
    "1962-10-31  1.399831  9.584378  1.309096  12.973965  1.995913  13.642566   \n",
    "1962-11-30  1.382441  9.425998  1.288177  12.642750  1.944514  13.521482   \n",
    "1962-12-31  1.482655  9.658245  1.291465  12.887561  2.051598  14.011291   \n",
    "\n",
    "                     month            \n",
    "                 std  mean       std  \n",
    "Yr_Mo_Dy                              \n",
    "1962-09-30  2.123696   6.1  3.160613  \n",
    "1962-10-31  2.088179   6.5  3.120391  \n",
    "1962-11-30  2.030800   6.9  3.160613  \n",
    "1962-12-31  2.361810   7.3  3.278318  \n",
    "```\n",
    "\n",
    "### Solución"
   ]
  },
  {
   "cell_type": "code",
   "execution_count": null,
   "metadata": {},
   "outputs": [],
   "source": [
    "\n",
    "import pandas as pd \n",
    "import datetime\n",
    "\n",
    "def fix_century(x): #ayuda \n",
    "    year = x.year - 100 if x.year > 1989 else x.year\n",
    "    return datetime.date(year, x.month, x.day)\n",
    "\n",
    "data=pd.read_csv('data/PS4_2.data', sep='\\s+', parse_dates = [[0,1,2]])\n",
    "data['Yr_Mo_Dy'] = data['Yr_Mo_Dy'].apply(fix_century)\n",
    "data[\"Yr_Mo_Dy\"] = pd.to_datetime(data[\"Yr_Mo_Dy\"])\n",
    "data = data.set_index('Yr_Mo_Dy')\n",
    "\n",
    "\n",
    "def ps4_4(data):\n",
    "\n",
    "    #tu codigo aqui, recuerda que debes usar resample, rolling y agg en este ejercicio\n",
    "    \n",
    "    \n",
    "    dFrame=\n",
    "    return dFrame\n",
    "        \n",
    "\n",
    "    "
   ]
  },
  {
   "cell_type": "markdown",
   "metadata": {},
   "source": [
    "### Prueba manuealmente tu respuesta"
   ]
  },
  {
   "cell_type": "code",
   "execution_count": null,
   "metadata": {},
   "outputs": [],
   "source": [
    "ps4_4(data.loc[pd.Timestamp('1961-01-01'):pd.Timestamp('1962-12-31')].copy())"
   ]
  },
  {
   "cell_type": "code",
   "execution_count": null,
   "metadata": {},
   "outputs": [],
   "source": []
  }
 ],
 "metadata": {
  "kernelspec": {
   "display_name": "p37",
   "language": "python",
   "name": "python3"
  },
  "language_info": {
   "codemirror_mode": {
    "name": "ipython",
    "version": 3
   },
   "file_extension": ".py",
   "mimetype": "text/x-python",
   "name": "python",
   "nbconvert_exporter": "python",
   "pygments_lexer": "ipython3",
   "version": "3.7.3"
  }
 },
 "nbformat": 4,
 "nbformat_minor": 2
}
