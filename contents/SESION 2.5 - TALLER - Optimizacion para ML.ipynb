{
 "cells": [
  {
   "cell_type": "markdown",
   "metadata": {},
   "source": [
    "ejecuta esta celda para que sus funciones estén disponible en el problemset."
   ]
  },
  {
   "cell_type": "code",
   "execution_count": 1,
   "metadata": {},
   "outputs": [],
   "source": [
    "from sklearn.datasets import *\n",
    "import numpy as np\n",
    "from scipy.optimize import minimize\n",
    "import matplotlib.pyplot as plt\n",
    "%matplotlib inline\n",
    "\n",
    "def plot_2Ddata_with_boundary(predict,X,y):\n",
    "    n = 200\n",
    "    mins,maxs = np.min(X,axis=0), np.max(X,axis=0)\n",
    "    mins -= np.abs(mins)*.2\n",
    "    maxs += np.abs(maxs)*.2\n",
    "    d0 = np.linspace(mins[0], maxs[0],n)\n",
    "    d1 = np.linspace(mins[1], maxs[1],n)\n",
    "    gd0,gd1 = np.meshgrid(d0,d1)\n",
    "    D = np.hstack((gd0.reshape(-1,1), gd1.reshape(-1,1)))\n",
    "    p = (predict(D)*1.).reshape((n,n))\n",
    "    plt.contourf(gd0,gd1,p, levels=[-0.1,0.5], alpha=0.5, cmap=plt.cm.Greys)\n",
    "    plt.scatter(X[y==0][:,0], X[y==0][:,1], c=\"blue\")\n",
    "    plt.scatter(X[y==1][:,0], X[y==1][:,1], c=\"red\")\n"
   ]
  },
  {
   "cell_type": "code",
   "execution_count": null,
   "metadata": {},
   "outputs": [],
   "source": []
  },
  {
   "cell_type": "code",
   "execution_count": 2,
   "metadata": {},
   "outputs": [
    {
     "data": {
      "text/plain": [
       "<matplotlib.collections.PathCollection at 0x7f195c0ab748>"
      ]
     },
     "execution_count": 2,
     "metadata": {},
     "output_type": "execute_result"
    },
    {
     "data": {
      "image/png": "[encoded data removed]",
      "text/plain": [
       "<Figure size 432x288 with 1 Axes>"
      ]
     },
     "metadata": {
      "needs_background": "light"
     },
     "output_type": "display_data"
    }
   ],
   "source": [
    "from sklearn.linear_model import LogisticRegression\n",
    "from sklearn.datasets import make_moons\n",
    "n=200\n",
    "X,y = make_moons(n_samples=n, noise=0.2)\n",
    "plt.scatter(X[y==0][:,0], X[y==0][:,1], c=\"blue\")\n",
    "plt.scatter(X[y==1][:,0], X[y==1][:,1], c=\"red\")"
   ]
  },
  {
   "cell_type": "markdown",
   "metadata": {},
   "source": [
    "## Ejercicio 1: Regresión logística (**CLASIFICACIÓN!!!**)\n",
    "\n",
    "denotamos un punto cualquiera en $\\mathbb{R}^2$ por $\\mathbf{x}^{(i)}= [1, x_1^{(i)}, x_2^{(i)}]$ (observa que le hemos añadido un 1), y está asociado a una clase $y^{(i)} \\in \\{0,1\\}$.\n",
    "\n",
    "**ASUMIMOS** que las clases son linealmente separables por una hiperplano parametrizado por $\\theta = [\\theta_0, \\theta_1, \\theta_2]$ a través de la siguiente función:\n",
    "\n",
    "$$\\hat{y}^{(i)} = g(\\theta_0 + \\theta_1 x_1^{(i)} + \\theta_2 x_2^{(i)}) = g(\\mathbf{x}^{(i)}\\theta)\\;\\;\\;\\; \\hat{y}^{(i)} \\in [0,1]$$\n",
    "\n",
    "con $g(z) = \\frac{1}{1+e^{-z}}$, la función sigmoide en donde $0<g(\\theta)<1$.  Observa que $g$ es una función escalar: $g: \\mathbb{R} \\rightarrow \\mathbb{R}$\n",
    "\n",
    "Si $\\hat{y}^{(i)}<0.5$ consideramos que la estimación clasifica el dato $x^{(i)}$ en la clase 0, y si no en la clase 1.\n",
    "\n",
    "queremos encontrar los valores $\\theta_{min}$ que parametrizan un hiperplano  de modo que\n",
    "\n",
    "\n",
    "$$\\theta_{min} = \\underset{\\theta}{arg\\,min} \\,\\,\\,\\frac{1}{m}\\sum_{i=0}^{m-1} (y^{(i)}-g(\\theta\\mathbf{x}^{(i)}))^2$$\n",
    "\n",
    "o en modo matricial:\n",
    "\n",
    "$$\\theta_{min} = \\underset{\\theta}{arg\\,min} \\,\\,\\,\\textbf{mean} (\\mathbf{X}\\theta -y)^2$$\n",
    "\n",
    "en donde $\\textbf{mean}$ es la suma de todos los elementos de una matriz o un vector, y $\\mathbf{X}$ es la matriz con todos los $\\mathbf{x}^{(i)}$ organizados en filas.\n",
    "\n",
    "\n",
    "**TAREA**: Completa la función de coste dentro del método `fit` para que se realize la minimización anterior\n",
    "\n",
    "Observa como, primero, añadimos una columna de unos a $X$ para tener un término $\\theta_0$ y poder hacer el producto punto de los vectores $\\mathbf{x}^{(i)}$ y $\\theta$.  **Esto se hace tanto en el método `fit` como en el `predict`**"
   ]
  },
  {
   "cell_type": "code",
   "execution_count": null,
   "metadata": {},
   "outputs": [],
   "source": [
    "\n",
    "class LR:\n",
    "\n",
    "    def fit(self, X, y):\n",
    "        X = np.hstack((np.ones((len(X),1)), X))\n",
    "\n",
    "        def cost(t):\n",
    "            return ...\n",
    "\n",
    "        r = minimize(cost, np.ones(X.shape[1])*-.11+np.random.random(X.shape[1])*.1, method=\"BFGS\")\n",
    "        self.theta = r.x  \n",
    "\n",
    "    def predict(self, X):\n",
    "        X = np.hstack((np.ones((len(X),1)), X))\n",
    "        return (self.g(X.dot(self.theta))>0.5)*1\n",
    "\n",
    "    def g(self, X):\n",
    "        return 1/(1+np.exp(-X))\n",
    "\n",
    "    def score(self, X,y):\n",
    "        return np.sum(self.predict(X)==y)*1./len(X)\n",
    "\n"
   ]
  },
  {
   "cell_type": "markdown",
   "metadata": {},
   "source": [
    "se crea una instancia y se ajusta a través de la optimización"
   ]
  },
  {
   "cell_type": "code",
   "execution_count": null,
   "metadata": {},
   "outputs": [],
   "source": [
    "lr = LR()\n",
    "lr.fit(X,y)"
   ]
  },
  {
   "cell_type": "code",
   "execution_count": null,
   "metadata": {},
   "outputs": [],
   "source": [
    "plot_2Ddata_with_boundary(lr.predict, X, y)"
   ]
  },
  {
   "cell_type": "markdown",
   "metadata": {},
   "source": [
    "#### salida esperada"
   ]
  },
  {
   "cell_type": "code",
   "execution_count": 72,
   "metadata": {},
   "outputs": [
    {
     "data": {
      "image/png": "[encoded data removed]",
      "text/plain": [
       "<IPython.core.display.Image object>"
      ]
     },
     "execution_count": 72,
     "metadata": {},
     "output_type": "execute_result"
    }
   ],
   "source": [
    "from IPython.display import Image\n",
    "Image(\"imgs/lr1.png\")"
   ]
  },
  {
   "cell_type": "markdown",
   "metadata": {},
   "source": [
    "## Ejercicio 2: Características polinomiales\n",
    "\n",
    "Completa la función `map_features` para expandir X con características polinomiales según la variable de clase `self.pols`, creando un conjunto de columnas nuevo elevando las originales con cada elemento de `self.pols`. Por ejemplo, si `self.pols`\n",
    " es `[2,5]`, la expansión de\n",
    " \n",
    "      1  2\n",
    "      3  2\n",
    "      2  1\n",
    "      \n",
    "sería\n",
    "\n",
    "      1  2  1  4   1   32\n",
    "      3  2  9  4  243  32\n",
    "      2  1  4  1   32   1\n",
    "      \n",
    "completa el resto de las funciones de la clase `LR` según el ejercio anterior. \n",
    "\n",
    "observa que $\\mathbf{X}$ ahora se refiere al dataset con (1) una columna de unos añadida; y (2) la expansión de características polinomiales"
   ]
  },
  {
   "cell_type": "code",
   "execution_count": null,
   "metadata": {},
   "outputs": [],
   "source": [
    "class LR:\n",
    "\n",
    "    def __init__(self, pols):\n",
    "        self.pols = pols\n",
    "\n",
    "    def map_features(self, X):\n",
    "        rX = ...         \n",
    "        return rX\n",
    "        \n",
    "    def fit(self, X, y):\n",
    "        X = np.hstack((np.ones((len(X),1)), X))\n",
    "        X = self.map_features(X)\n",
    "\n",
    "        def cost(t):\n",
    "            return ...\n",
    "\n",
    "        r = minimize(cost, np.ones(X.shape[1])*-.11+np.random.random(X.shape[1])*.1, method=\"BFGS\")\n",
    "        self.theta = r.x  \n",
    "\n",
    "    def predict(self, X):\n",
    "        X = np.hstack((np.ones((len(X),1)), X))\n",
    "        X = self.map_features(X)\n",
    "        return (self.g(X.dot(self.theta))>0.5)*1\n",
    "\n",
    "    def g(self, X):\n",
    "        return 1/(1+np.exp(-X))\n",
    "\n",
    "    def score(self, X,y):\n",
    "        return np.sum(self.predict(X)==y)*1./len(X)\n",
    "\n"
   ]
  },
  {
   "cell_type": "markdown",
   "metadata": {},
   "source": [
    "comprueba tu código"
   ]
  },
  {
   "cell_type": "code",
   "execution_count": null,
   "metadata": {},
   "outputs": [],
   "source": [
    "import numpy as np\n",
    "X = np.array([[1, 2], [3,2], [2,1]])\n",
    "lr = LR(pols=[2,5])\n",
    "lr.map_features(X)"
   ]
  },
  {
   "cell_type": "markdown",
   "metadata": {},
   "source": [
    "observa las fronteras de clasificación que se generan con distintas transformaciones"
   ]
  },
  {
   "cell_type": "code",
   "execution_count": null,
   "metadata": {},
   "outputs": [],
   "source": [
    "X,y = make_moons(n_samples=100, noise=0.2)\n",
    "\n",
    "plt.figure(figsize=(15,3))\n",
    "\n",
    "for i,pols in enumerate([[], [3], [2,4], [5,10,20]]):\n",
    "    plt.subplot(1,4,i+1)\n",
    "    lr = LR(pols=pols)\n",
    "    lr.fit(X,y)\n",
    "    plot_2Ddata_with_boundary(lr.predict, X,y)\n",
    "    plt.title(\"pols=\"+str(list(pols)))"
   ]
  },
  {
   "cell_type": "markdown",
   "metadata": {},
   "source": [
    "#### salida esperada (aproximada, según el dataset muestreado)"
   ]
  },
  {
   "cell_type": "code",
   "execution_count": 71,
   "metadata": {},
   "outputs": [
    {
     "data": {
      "image/png": "[encoded data removed]",
      "text/plain": [
       "<IPython.core.display.Image object>"
      ]
     },
     "execution_count": 71,
     "metadata": {},
     "output_type": "execute_result"
    }
   ],
   "source": [
    "from IPython.display import Image\n",
    "Image(\"imgs/lr2.png\")"
   ]
  },
  {
   "cell_type": "markdown",
   "metadata": {},
   "source": [
    "## Ejercicio 2: Regularización\n",
    "\n",
    "Actualiza la clase implementando la siguiente función de costo\n",
    "\n",
    "$$\\theta_{min} = \\underset{\\theta}{arg\\,min} \\,\\,\\,\\frac{1}{m}\\sum_{i=0}^{m-1} (y^{(i)}-g(\\theta\\mathbf{x}^{(i)}))^2 + \\lambda||\\theta||^2$$\n",
    "\n",
    "en donde\n",
    "\n",
    "$$||\\theta||^2 = \\sum \\theta_i^2$$\n",
    "\n",
    "y `np.linalg.norm(t)` = $||\\theta||$\n",
    "\n",
    "\n",
    "En donde los argumentos `t` y `reg` representan $\\theta$ y $\\lambda$ respectivamente. \n"
   ]
  },
  {
   "cell_type": "code",
   "execution_count": null,
   "metadata": {},
   "outputs": [],
   "source": [
    "class LR:\n",
    "\n",
    "    def __init__(self, pols, reg=0):\n",
    "        self.pols = pols\n",
    "        self.reg  = reg\n",
    "\n",
    "    def map_features(self, X):\n",
    "        rX = ...          \n",
    "        return rX\n",
    "        \n",
    "    def fit(self, X, y):\n",
    "        X = np.hstack((np.ones((len(X),1)), X))\n",
    "        X = self.map_features(X)\n",
    "\n",
    "        def cost(t):\n",
    "            return ...\n",
    "\n",
    "        r = minimize(cost, np.ones(X.shape[1])*-.11+np.random.random(X.shape[1])*.1, method=\"BFGS\")\n",
    "        self.theta = r.x  \n",
    "\n",
    "    def predict(self, X):\n",
    "        X = np.hstack((np.ones((len(X),1)), X))\n",
    "        X = self.map_features(X)\n",
    "        return (self.g(X.dot(self.theta))>0.5)*1\n",
    "\n",
    "    def g(self, X):\n",
    "        return 1/(1+np.exp(-X))\n",
    "\n",
    "    def score(self, X,y):\n",
    "        return np.sum(self.predict(X)==y)*1./len(X)\n"
   ]
  },
  {
   "cell_type": "code",
   "execution_count": null,
   "metadata": {},
   "outputs": [],
   "source": [
    "X,y = make_moons(n_samples=100, noise=0.2)\n",
    "\n",
    "plt.figure(figsize=(15,3))\n",
    "\n",
    "for i,reg in enumerate([0,.002, .01,.05]):\n",
    "    plt.subplot(1,4,i+1)\n",
    "    lr = LR(pols=[4,5,6], reg=reg)\n",
    "    lr.fit(X,y)\n",
    "    plot_2Ddata_with_boundary(lr.predict, X,y)\n",
    "    plt.title(\"pols=\"+str(list(pols)))"
   ]
  },
  {
   "cell_type": "markdown",
   "metadata": {
    "collapsed": true
   },
   "source": [
    "#### salida esperada (aproximada, según el dataset muestreado)"
   ]
  },
  {
   "cell_type": "code",
   "execution_count": 70,
   "metadata": {},
   "outputs": [
    {
     "data": {
      "image/png": "[encoded data removed]",
      "text/plain": [
       "<IPython.core.display.Image object>"
      ]
     },
     "execution_count": 70,
     "metadata": {},
     "output_type": "execute_result"
    }
   ],
   "source": [
    "from IPython.display import Image\n",
    "Image(\"imgs/lr3.png\")"
   ]
  },
  {
   "cell_type": "code",
   "execution_count": null,
   "metadata": {},
   "outputs": [],
   "source": []
  }
 ],
 "metadata": {
  "kernelspec": {
   "display_name": "p37",
   "language": "python",
   "name": "python3"
  },
  "language_info": {
   "codemirror_mode": {
    "name": "ipython",
    "version": 3
   },
   "file_extension": ".py",
   "mimetype": "text/x-python",
   "name": "python",
   "nbconvert_exporter": "python",
   "pygments_lexer": "ipython3",
   "version": "3.7.3"
  },
  "toc": {
   "toc_cell": false,
   "toc_number_sections": false,
   "toc_threshold": 6,
   "toc_window_display": false
  },
  "widgets": {
   "state": {},
   "version": "1.1.2"
  }
 },
 "nbformat": 4,
 "nbformat_minor": 1
}
