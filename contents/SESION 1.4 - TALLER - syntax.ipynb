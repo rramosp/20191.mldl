{
 "cells": [
  {
   "cell_type": "markdown",
   "metadata": {},
   "source": [
    "# Sintaxis: ProblemSet\n",
    "\n"
   ]
  },
  {
   "cell_type": "markdown",
   "metadata": {},
   "source": [
    "## Problema 1\n",
    "\n",
    "Determine si un número `n` entero ingresado por el usuario es un palíndromo, es decir si puede leerse igual de izquierda a derecha o de derecha a izquierda. (Retorne `True` en caso afirmativo y `False` en caso contrario) \n",
    "\n",
    "\n",
    "### Ejemplo de ejecución\n",
    "\n",
    "```python\n",
    "\n",
    ">>> palindromo(n=3456543)\n",
    "True\n",
    "\n",
    ">>> palindromo(n=543)\n",
    "\n",
    "False\n",
    "\n",
    "```\n",
    "\n",
    "### Solución:"
   ]
  },
  {
   "cell_type": "code",
   "execution_count": null,
   "metadata": {},
   "outputs": [],
   "source": [
    "\n",
    "def palindromo(n): # n debe ser un numero\n",
    "    \n",
    "    #tu codigo aqui\n",
    "    \n",
    "    return r # r debe ser un valor Booleano (True o False) \n",
    "\n",
    "   \n",
    "\n"
   ]
  },
  {
   "cell_type": "markdown",
   "metadata": {},
   "source": [
    "### Prueba manualmente tu respuesta"
   ]
  },
  {
   "cell_type": "code",
   "execution_count": null,
   "metadata": {},
   "outputs": [],
   "source": [
    "palindromo(12321); palindromo(12322)"
   ]
  },
  {
   "cell_type": "markdown",
   "metadata": {},
   "source": [
    "## Problema 2\n",
    "\n",
    "En este ejercicio, su programa recibirá un monto entre 1 y 99 centavos de Dolar, Escriba un metodo que retorne en  una lista, cuantas monedas son necesarias para devolverle a alguien dicho valor, si únicamente se cuenta con monedas de 1, 10 y 25 centavos. La lista debe entregarse de la siguiente manera: \n",
    "\n",
    "    \n",
    "```python\n",
    "\n",
    "r = [n_1,n_10,n_25]\n",
    "\n",
    "```\n",
    "\n",
    " donde `n_1`, `n_10` y `n_25` son la cantidad de monedas de 1, 10 y 25 centavos respectivamente\n",
    "\n",
    "si el valor no está en el rango dado, debe retornarse ` r = None` \n",
    "\n",
    "\n",
    "### Ejemplo de ejecución\n",
    "\n",
    "```python\n",
    "\n",
    ">>> cambio(n=55)\n",
    "[5,0,2]\n",
    "\n",
    "\n",
    ">>> cambio(n=200)\n",
    "None\n",
    "\n",
    "\n",
    ">>> cambio(n=47)\n",
    "[2,2,1]\n",
    "\n",
    "```\n",
    "\n",
    "### Solución:"
   ]
  },
  {
   "cell_type": "code",
   "execution_count": null,
   "metadata": {},
   "outputs": [],
   "source": [
    "def cambio(n):\n",
    "    r=[0,0,0] #recuerde: r[0]== n_1, r[1]== n_10 y r[2]== n_25 \n",
    "    #si n>99 o n<1: use return None\n",
    "    \n",
    "    ## tu codigo aquí\n"
   ]
  },
  {
   "cell_type": "markdown",
   "metadata": {},
   "source": [
    "### Prueba manualmente tu respuesta"
   ]
  },
  {
   "cell_type": "code",
   "execution_count": null,
   "metadata": {},
   "outputs": [],
   "source": [
    "cambio(n=55), cambio(n=200), cambio(n=47)"
   ]
  },
  {
   "cell_type": "markdown",
   "metadata": {},
   "source": [
    "## Problema 3\n",
    "\n",
    "Dada una cadena de caracteres, entregar una lista donde se retorne:\n",
    ">- en la primera casilla: `True` si el caracter del medio es una vocal, `False` en caso contrario \n",
    ">- en la segunda: el numero de vocales en la cadena\n",
    ">- en la tercera: el numero de consonantes\n",
    ">- en la ultima: la cadena de caracteres invertida (ej: perro, orrep)\n",
    "\n",
    "### Ejemplo de Ejecución\n",
    "```python\n",
    "\n",
    ">>> cadena(s='perro')\n",
    "[False, 2, 3, 'orrep']\n",
    "\n",
    ">>> cadena(s='murcielago')\n",
    "[True, 5, 5, 'ogaleicrum']\n",
    "\n",
    "```\n",
    "\n",
    "### Solución"
   ]
  },
  {
   "cell_type": "code",
   "execution_count": null,
   "metadata": {},
   "outputs": [],
   "source": [
    "def cadena(s):\n",
    "    \n",
    "    #tu codigo aquí\n",
    "    \n",
    "    medio=\n",
    "    cont_vocales=\n",
    "    cont_consonante=\n",
    "    inverso=\n",
    "    \n",
    "    \n",
    "    resultado=[medio,cont_vocales,cont_consonante,inverso]\n",
    "    return resultado\n",
    "    "
   ]
  },
  {
   "cell_type": "markdown",
   "metadata": {},
   "source": [
    "### Prueba manualmente tu respuesta"
   ]
  },
  {
   "cell_type": "code",
   "execution_count": null,
   "metadata": {},
   "outputs": [],
   "source": [
    "cadena(s='perro'), cadena(s='murcielago')"
   ]
  },
  {
   "cell_type": "markdown",
   "metadata": {},
   "source": [
    "## Problema 4\n",
    "\n",
    "Elabore un método para calcular el n-ésimo término de la sucesión de fibonacci: \n",
    "\n",
    "$$ f_n = f_{n-1}+f_{n-2}$$\n",
    "\n",
    "Donde $$f_0=0 \\:\\:\\text{ y }\\:\\:f_1=1 $$ así:   $$f_2=1+0=1$$ $$f_3=1+1=2$$  $$f_4=2+1=3$$ y así sucesivamente\n",
    "\n",
    "### Ejemplo de Ejecución\n",
    "```python\n",
    "\n",
    ">>> fibonacci(50)\n",
    "12586269025\n",
    "\n",
    ">>> fibonacci(63)\n",
    "6557470319842\n",
    "```\n",
    "### Solución"
   ]
  },
  {
   "cell_type": "code",
   "execution_count": null,
   "metadata": {},
   "outputs": [],
   "source": [
    "def fibonacci(n):\n",
    "    f_1=1\n",
    "    f_2=1\n",
    "    suma=0\n",
    "    \n",
    "    #tu codigo aqui\n",
    "    \n",
    "    \n",
    "    return suma\n",
    "    "
   ]
  },
  {
   "cell_type": "markdown",
   "metadata": {},
   "source": [
    "### Prueba manualmente tu respuesta"
   ]
  },
  {
   "cell_type": "code",
   "execution_count": null,
   "metadata": {},
   "outputs": [],
   "source": [
    "fibonacci(50), fibonacci(63)"
   ]
  },
  {
   "cell_type": "markdown",
   "metadata": {},
   "source": [
    "## Problema 5\n",
    "\n",
    "Elaborar un método que arroje `True`  si el numero ingresado es perfecto, `False` en caso contrario.\n",
    "\n",
    ">- números perfectos: https://es.wikipedia.org/wiki/N%C3%BAmero_perfecto,\n",
    "un número es perfecto si la suma de todos sus divisores es igual al mismo número; ej: $6=3+2+1$\n",
    "\n",
    "### Ejemplo de Ejecución\n",
    "\n",
    "```python\n",
    "\n",
    ">>> perfecto(6)\n",
    "True\n",
    "\n",
    ">>> perfecto(51)\n",
    "False\n",
    "\n",
    ">>> perfecto(496)\n",
    "True\n",
    "\n",
    "```\n",
    "\n",
    "### Solución"
   ]
  },
  {
   "cell_type": "code",
   "execution_count": null,
   "metadata": {},
   "outputs": [],
   "source": [
    "\n",
    "def perfecto(n):\n",
    "    #tu codigo aqui, pista:\n",
    "    # halle todos los divisores de n y sumelos en una variable auxiliar,\n",
    "    #compare este resultado con el valor original\n",
    "    \n",
    "    "
   ]
  },
  {
   "cell_type": "markdown",
   "metadata": {},
   "source": [
    "### Prueba manualmente tu respuesta"
   ]
  },
  {
   "cell_type": "code",
   "execution_count": null,
   "metadata": {},
   "outputs": [],
   "source": [
    "perfecto(6), perfecto(51), perfecto(496)"
   ]
  },
  {
   "cell_type": "code",
   "execution_count": null,
   "metadata": {},
   "outputs": [],
   "source": []
  }
 ],
 "metadata": {
  "kernelspec": {
   "display_name": "p37",
   "language": "python",
   "name": "python3"
  },
  "language_info": {
   "codemirror_mode": {
    "name": "ipython",
    "version": 3
   },
   "file_extension": ".py",
   "mimetype": "text/x-python",
   "name": "python",
   "nbconvert_exporter": "python",
   "pygments_lexer": "ipython3",
   "version": "3.7.3"
  }
 },
 "nbformat": 4,
 "nbformat_minor": 2
}
