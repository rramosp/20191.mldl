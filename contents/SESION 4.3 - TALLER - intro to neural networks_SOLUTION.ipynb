{
 "cells": [
  {
   "cell_type": "markdown",
   "metadata": {},
   "source": [
    "# TALLER 1: Experimenta con redes neuronales\n",
    "\n",
    "Abre Tensorflow Playground: https://playground.tensorflow.org\n",
    "\n",
    "Trata de conseguir una red neuronal que genere las fronteras de clasificación apropiadas para cada uno de los cuatro datasets"
   ]
  },
  {
   "cell_type": "markdown",
   "metadata": {},
   "source": [
    "- datos circulares, \n",
    "    - x1 x2, capas [1] --> lineal\n",
    "    - x1 x2, capas [2, 2] --> solo parabola\n",
    "    - x1 x2, capas [2, 3] --> solo parabola\n",
    "    - x1 x2, capas [2, 2, 1] --> solo parabola\n",
    "    - x1 x2, capas [2, 2, 2] --> solo parabola\n",
    "    - x1 x2, capas [2, 3, 2] --> solo parabola\n",
    "    - x1 x2, capas [2, 4, 2] --> solo parabola\n",
    "    - x1 x2, capas [3] --> frontera triangular ok\n",
    "    - x1 x2, capas [3, 2] --> frontera circular ok\n",
    "    - x1 x2, capas [3, 1] --> frontera circular ok\n",
    "    - x1 x2 x1^2 x2^2, capas [1, 1] --> frontera circular ok\n",
    "    - x1^2 x2^2, capas [1, 1] --> frontera circular ok\n",
    "\n",
    "- checkered board, x1 x2 x1^2 x2^2\n",
    "   - capas [2] --> doble lineal\n",
    "   - capas [3] --> mas o menos ok\n",
    "   - capas [4] --> ok\n",
    "\n",
    "- spiral x1 x2\n",
    "   - capas [4 3 2] --> almost ok\n",
    "   - capas [4 3 2]   --> almost ok\n",
    "   - capas [6 3 2] --> nice\n"
   ]
  },
  {
   "cell_type": "code",
   "execution_count": null,
   "metadata": {},
   "outputs": [],
   "source": []
  },
  {
   "cell_type": "markdown",
   "metadata": {},
   "source": [
    "## TALLER 2: Multi Layer Perceptron\n",
    "\n",
    "Implementa una red neuronal de tres capas según la siguiente función de predicción.\n",
    "\n",
    "$$\\hat{y} = \\text{sigmoid} ( \\mathbf{W}_3 \\cdot \\tanh(\\mathbf{W}_2 \\cdot \\tanh(\\mathbf{x^T} \\cdot \\mathbf{W}_1 + \\mathbf{b}_1) + \\mathbf{b}_2) + b_3 )$$\n",
    "\n",
    "$$J(\\mathbf{b}_1, b_2, \\mathbf{W}_1, \\mathbf{W}_2) = \\frac{1}{m}\\sum_{i=0}^{m-1} (\\hat{y}-y)^2 $$\n",
    "\n",
    "observa que ahora tenemos dos tamaños para las dos capas escondidas. P.ej. si esos tamaños son 4 y 6 respectivamente, estas serían las dimensiones de los pesos:\n",
    "\n",
    "- $W_1$: (2, 4)\n",
    "- $W_2$: (4, 6)\n",
    "- $W_3$: (6, 1)\n",
    "- $b_1$: (4)\n",
    "- $b_1$: (6)\n",
    "- $b_1$: (1)\n"
   ]
  },
  {
   "cell_type": "code",
   "execution_count": 2,
   "metadata": {},
   "outputs": [
    {
     "name": "stdout",
     "output_type": "stream",
     "text": [
      "1.13.1\n"
     ]
    },
    {
     "data": {
      "image/png": "[encoded data removed]",
      "text/plain": [
       "<Figure size 432x288 with 1 Axes>"
      ]
     },
     "metadata": {
      "needs_background": "light"
     },
     "output_type": "display_data"
    }
   ],
   "source": [
    "import tensorflow as tf\n",
    "import numpy as np\n",
    "import matplotlib.pyplot as plt\n",
    "%matplotlib inline\n",
    "import pandas as pd\n",
    "print (tf.__version__)\n",
    "from sklearn.datasets import make_moons\n",
    "import mlutils\n",
    "X,y = make_moons(200,noise=.4)\n",
    "mlutils.plot_2Ddata(X,y)"
   ]
  },
  {
   "cell_type": "markdown",
   "metadata": {},
   "source": [
    "### Parámetros de entrada"
   ]
  },
  {
   "cell_type": "code",
   "execution_count": 3,
   "metadata": {},
   "outputs": [],
   "source": [
    "input_units  = 2\n",
    "h_units_1    = 4\n",
    "h_units_2    = 6\n",
    "output_units = 1"
   ]
  },
  {
   "cell_type": "markdown",
   "metadata": {},
   "source": [
    "### Grafo computacional"
   ]
  },
  {
   "cell_type": "code",
   "execution_count": 4,
   "metadata": {},
   "outputs": [
    {
     "name": "stdout",
     "output_type": "stream",
     "text": [
      "WARNING:tensorflow:From /home/user/.conda/envs/p37/lib/python3.7/site-packages/tensorflow/python/framework/op_def_library.py:263: colocate_with (from tensorflow.python.framework.ops) is deprecated and will be removed in a future version.\n",
      "Instructions for updating:\n",
      "Colocations handled automatically by placer.\n"
     ]
    }
   ],
   "source": [
    "tf.reset_default_graph()\n",
    "\n",
    "# symbolic vars for model parameters\n",
    "tW1 = tf.Variable(initial_value=tf.random_uniform([input_units, h_units_1], dtype=tf.float64), name=\"W1\", dtype=tf.float64)\n",
    "tb1 = tf.Variable(initial_value=tf.random_uniform([h_units_1], dtype=tf.float64), name=\"b1\", dtype=tf.float64)\n",
    "tW2 = tf.Variable(initial_value=tf.random_uniform([h_units_1, h_units_2], dtype=tf.float64), name=\"W2\", dtype=tf.float64)\n",
    "tb2 = tf.Variable(initial_value=tf.random_uniform([h_units_2], dtype=tf.float64), name=\"b2\", dtype=tf.float64)\n",
    "tW3 = tf.Variable(initial_value=tf.random_uniform([h_units_2, output_units], dtype=tf.float64), name=\"W3\", dtype=tf.float64)\n",
    "tb3 = tf.Variable(initial_value=tf.random_uniform([output_units], dtype=tf.float64), name=\"b3\", dtype=tf.float64)\n",
    "\n",
    "# symbolic vars for data\n",
    "tX = tf.placeholder(name=\"X\", dtype=tf.float64, shape = (None, input_units))\n",
    "ty = tf.placeholder(name=\"y\", dtype=tf.float64, shape = (None, output_units))\n"
   ]
  },
  {
   "cell_type": "code",
   "execution_count": 6,
   "metadata": {},
   "outputs": [
    {
     "name": "stdout",
     "output_type": "stream",
     "text": [
      "(2, 4)\n",
      "(4, 6)\n",
      "(6, 1)\n",
      "(4,)\n",
      "(6,)\n",
      "(1,)\n"
     ]
    }
   ],
   "source": [
    "print (tW1.shape)\n",
    "print (tW2.shape)\n",
    "print (tW3.shape)\n",
    "print (tb1.shape)\n",
    "print (tb2.shape)\n",
    "print (tb3.shape)\n"
   ]
  },
  {
   "cell_type": "code",
   "execution_count": 7,
   "metadata": {},
   "outputs": [],
   "source": [
    "#y_hat = tf.sigmoid(tf.matmul(tf.tanh(tf.matmul(tX,tW1)+tb1), tW2) + tb2)\n",
    "y_hat = tf.sigmoid(tf.matmul(tf.tanh(tf.matmul(tf.tanh(tf.matmul(tX,tW1)+tb1), tW2) + tb2), tW3) + tb3)\n",
    "loss = tf.reduce_mean(tf.pow((y_hat - ty),2))             "
   ]
  },
  {
   "cell_type": "markdown",
   "metadata": {},
   "source": [
    "### Optimización"
   ]
  },
  {
   "cell_type": "code",
   "execution_count": 9,
   "metadata": {},
   "outputs": [
    {
     "name": "stderr",
     "output_type": "stream",
     "text": [
      "100% (4999 of 4999) |####################| Elapsed Time: 0:00:02 Time:  0:00:02\n"
     ]
    }
   ],
   "source": [
    "optimizer_gd = tf.train.GradientDescentOptimizer(.5).minimize(loss)\n",
    "\n",
    "init = tf.global_variables_initializer()\n",
    "\n",
    "loss_hist = []\n",
    "steps = 5000\n",
    "\n",
    "with tf.Session() as sess:\n",
    "    sess.run(init)\n",
    "    \n",
    "    for i in mlutils.pbar()(range(1,steps)):\n",
    "        # parameter update\n",
    "        sess.run(optimizer_gd, feed_dict={tX: X, ty: y.reshape(-1,1)})\n",
    "        # history\n",
    "        if i%10==0:\n",
    "            loss_val = sess.run(loss, feed_dict={tX: X, ty: y.reshape(-1,1)})\n",
    "            loss_hist.append(loss_val)\n",
    "        \n",
    "    val_W1, val_W2, val_W3, val_b1, val_b2, val_b3 = sess.run([tW1, tW2, tW3, tb1, tb2, tb3])"
   ]
  },
  {
   "cell_type": "code",
   "execution_count": 10,
   "metadata": {},
   "outputs": [
    {
     "data": {
      "text/plain": [
       "[<matplotlib.lines.Line2D at 0x7f13e42b7630>]"
      ]
     },
     "execution_count": 10,
     "metadata": {},
     "output_type": "execute_result"
    },
    {
     "data": {
      "image/png": "[encoded data removed]",
      "text/plain": [
       "<Figure size 432x288 with 1 Axes>"
      ]
     },
     "metadata": {
      "needs_background": "light"
     },
     "output_type": "display_data"
    }
   ],
   "source": [
    "plt.plot(loss_hist)"
   ]
  },
  {
   "cell_type": "markdown",
   "metadata": {},
   "source": [
    "### Predicción"
   ]
  },
  {
   "cell_type": "code",
   "execution_count": 11,
   "metadata": {},
   "outputs": [],
   "source": [
    "def predict(X):\n",
    "    with tf.Session() as sess:\n",
    "        preds = sess.run(y_hat, feed_dict={tX: X,  \n",
    "                                           tW1: val_W1, tW2: val_W2, tW3: val_W3, \n",
    "                                           tb1: val_b1, tb2: val_b2, tb3: val_b3})\n",
    "    return (preds[:,0]>.5).astype(int)"
   ]
  },
  {
   "cell_type": "code",
   "execution_count": 12,
   "metadata": {},
   "outputs": [
    {
     "data": {
      "text/plain": [
       "(0.500175, 0.499825)"
      ]
     },
     "execution_count": 12,
     "metadata": {},
     "output_type": "execute_result"
    },
    {
     "data": {
      "image/png": "[encoded data removed]",
      "text/plain": [
       "<Figure size 432x288 with 1 Axes>"
      ]
     },
     "metadata": {
      "needs_background": "light"
     },
     "output_type": "display_data"
    }
   ],
   "source": [
    "mlutils.plot_2Ddata_with_boundary(predict, X, y)"
   ]
  },
  {
   "cell_type": "code",
   "execution_count": null,
   "metadata": {},
   "outputs": [],
   "source": []
  }
 ],
 "metadata": {
  "kernelspec": {
   "display_name": "p37",
   "language": "python",
   "name": "python3"
  },
  "language_info": {
   "codemirror_mode": {
    "name": "ipython",
    "version": 3
   },
   "file_extension": ".py",
   "mimetype": "text/x-python",
   "name": "python",
   "nbconvert_exporter": "python",
   "pygments_lexer": "ipython3",
   "version": "3.7.3"
  }
 },
 "nbformat": 4,
 "nbformat_minor": 2
}
