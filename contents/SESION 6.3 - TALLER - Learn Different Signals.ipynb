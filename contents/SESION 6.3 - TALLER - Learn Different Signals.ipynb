{
 "cells": [
  {
   "cell_type": "markdown",
   "metadata": {},
   "source": [
    "## Experimenta con distintos tipos de señales y redes recurrentes"
   ]
  },
  {
   "cell_type": "code",
   "execution_count": null,
   "metadata": {},
   "outputs": [],
   "source": [
    "import pandas as pd\n",
    "import matplotlib.pyplot as plt\n",
    "import numpy as np\n",
    "from numpy import array\n",
    "from tensorflow.keras.models import Sequential\n",
    "from tensorflow.keras.layers import Dense, LSTM, TimeDistributed, Activation\n",
    "import tensorflow as tf\n",
    "print (tf.__version__)\n",
    "from sklearn.preprocessing import MinMaxScaler\n",
    "%matplotlib inline"
   ]
  },
  {
   "cell_type": "code",
   "execution_count": null,
   "metadata": {},
   "outputs": [],
   "source": [
    "def add_noise(x, noise_pct=.1):\n",
    "    k = (np.max(x)-np.min(x))*noise_pct\n",
    "    return x + np.random.normal(size=len(x))*k\n",
    "\n",
    "def timeseries_as_many2one(t, nb_timesteps_in, timelag=1):\n",
    "    assert timelag>0, \"timelag must be >0\"\n",
    "    X,y = [], []\n",
    "    for i in range(len(t)-nb_timesteps_in-timelag):\n",
    "        X.append(t[i:i+nb_timesteps_in])\n",
    "        y.append(t[i+nb_timesteps_in+timelag-1])\n",
    "    return np.r_[X].reshape(-1, nb_timesteps_in, 1), np.r_[y].reshape(-1,1)"
   ]
  },
  {
   "cell_type": "markdown",
   "metadata": {},
   "source": [
    "## Varias señales de ejemplo\n",
    "\n",
    "- observa como `s1` contiene una señal y `ns1` tiene la misma señal con ruido añadido\n",
    "- experimenta con distintos niveles de ruido `noise_pct`"
   ]
  },
  {
   "cell_type": "code",
   "execution_count": null,
   "metadata": {},
   "outputs": [],
   "source": [
    "t1 = np.linspace(0,60,500)\n",
    "s1 = np.sin(t1)+np.cos(2*t1)+t1/10\n",
    "ns1 = add_noise(s1,noise_pct=.05)\n",
    "plt.figure(figsize=(20,3))\n",
    "plt.plot(x1,s1)\n",
    "plt.plot(x1,ns1)"
   ]
  },
  {
   "cell_type": "markdown",
   "metadata": {},
   "source": [
    "**una señal un poco más compleja**"
   ]
  },
  {
   "cell_type": "code",
   "execution_count": null,
   "metadata": {},
   "outputs": [],
   "source": [
    "t2 = np.linspace(0,80,500)\n",
    "s2 = (np.sin(t2)+np.cos(2*t2)*t2/100)**2*np.sin(t2/10)\n",
    "ns2 = add_noise(s2,noise_pct=.1)\n",
    "plt.figure(figsize=(20,3))\n",
    "plt.plot(t2,s2)\n",
    "plt.plot(t2,ns2)"
   ]
  },
  {
   "cell_type": "markdown",
   "metadata": {},
   "source": [
    "## Construye o carga otras señales temporales"
   ]
  },
  {
   "cell_type": "markdown",
   "metadata": {},
   "source": [
    "## Paso 1: Decide qué tipo de tarea quieres realizar\n",
    "\n",
    "- _sugerencia_: inicia con una tarea **many to one**\n",
    "\n",
    "## Paso 2: Construye el dataset desde la señal\n",
    "\n",
    "- no te olvides de revisar si los tamaños (`shape`) de los objetos es el adecuado\n"
   ]
  },
  {
   "cell_type": "code",
   "execution_count": null,
   "metadata": {},
   "outputs": [],
   "source": [
    "X,y = timeseries_as_many...\n",
    "i = int(len(X)*2./3)\n",
    "Xtr, ytr = X[:i], y[:i]\n",
    "Xts, yts = X[i:], y[i:]\n",
    "Xtr.shape, Xts.shape, ytr.shape, yts.shape"
   ]
  },
  {
   "cell_type": "markdown",
   "metadata": {},
   "source": [
    "## Paso 3: Construye el modelo de red recurrente"
   ]
  },
  {
   "cell_type": "code",
   "execution_count": null,
   "metadata": {},
   "outputs": [],
   "source": [
    "def get_model(n_neurons, nb_timesteps_in):\n",
    "    # create LSTM\n",
    "    tf.reset_default_graph()\n",
    "    tf.keras.backend.clear_session()\n",
    "    model = Sequential()\n",
    "    model.add ....\n",
    "    return model"
   ]
  },
  {
   "cell_type": "code",
   "execution_count": null,
   "metadata": {},
   "outputs": [],
   "source": [
    "model = get_many2one_single_layer_LSTM(n_neurons=30, nb_timesteps_in=X.shape[1])"
   ]
  },
  {
   "cell_type": "markdown",
   "metadata": {},
   "source": [
    "## Pase 4: Entrena tu modelo"
   ]
  },
  {
   "cell_type": "code",
   "execution_count": null,
   "metadata": {
    "scrolled": true
   },
   "outputs": [],
   "source": [
    "model.fit(Xtr, ytr, ...."
   ]
  },
  {
   "cell_type": "markdown",
   "metadata": {},
   "source": [
    "## Paso 5: Mide desempeño y pinta la salida"
   ]
  },
  {
   "cell_type": "code",
   "execution_count": null,
   "metadata": {},
   "outputs": [],
   "source": [
    "yts_preds = model.predict(Xts)\n",
    "yts_preds.shape\n",
    "print (\"trend accuracy %.2f\"%(np.mean( (yts_preds[1:]>yts_preds[:-1])==(yts[1:]>yts[:-1]))))"
   ]
  },
  {
   "cell_type": "code",
   "execution_count": null,
   "metadata": {},
   "outputs": [],
   "source": [
    "plt.figure(figsize=(15,3))\n",
    "plt.plot(yts[:,0], color=\"red\", alpha=.3, lw=5, label=\"target\")\n",
    "plt.plot(yts_preds[:,0], color=\"red\", alpha=1, lw=2, label=\"prediction\")\n",
    "plt.legend()\n",
    "plt.grid()"
   ]
  },
  {
   "cell_type": "code",
   "execution_count": null,
   "metadata": {},
   "outputs": [],
   "source": []
  }
 ],
 "metadata": {
  "kernelspec": {
   "display_name": "p37",
   "language": "python",
   "name": "python3"
  },
  "language_info": {
   "codemirror_mode": {
    "name": "ipython",
    "version": 3
   },
   "file_extension": ".py",
   "mimetype": "text/x-python",
   "name": "python",
   "nbconvert_exporter": "python",
   "pygments_lexer": "ipython3",
   "version": "3.7.3"
  }
 },
 "nbformat": 4,
 "nbformat_minor": 2
}
